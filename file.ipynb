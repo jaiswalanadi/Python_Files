{
 "cells": [
  {
   "cell_type": "code",
   "execution_count": 1,
   "id": "cf34b5cc-64fa-4229-96d9-0832d46bb7fa",
   "metadata": {},
   "outputs": [
    {
     "data": {
      "text/plain": [
       "'\\nr - open a file in read mode.\\nw - opens or create a text file in write mode.\\na - opens a file in append mode.\\nr+ - opens a file in both read and write mode.\\na+ - opens a file in both read and write mode.\\nw+ - opens a file in both read and write mode.\\n'"
      ]
     },
     "execution_count": 1,
     "metadata": {},
     "output_type": "execute_result"
    }
   ],
   "source": [
    "#1\n",
    "\n",
    "# open() method\n",
    "\n",
    "'''\n",
    "r - open a file in read mode.\n",
    "w - opens or create a text file in write mode.\n",
    "a - opens a file in append mode.\n",
    "r+ - opens a file in both read and write mode.\n",
    "a+ - opens a file in both read and write mode.\n",
    "w+ - opens a file in both read and write mode.\n",
    "'''"
   ]
  },
  {
   "cell_type": "code",
   "execution_count": 2,
   "id": "1289a50a-01d0-4e45-a34a-1c65e7bde336",
   "metadata": {},
   "outputs": [
    {
     "data": {
      "text/plain": [
       "'\\nThe close() method closes an open file. \\nYou should always close your files, in some cases, due to buffering, \\nchanges made to a file may not show until you close the file.\\n'"
      ]
     },
     "execution_count": 2,
     "metadata": {},
     "output_type": "execute_result"
    }
   ],
   "source": [
    "#2\n",
    "'''\n",
    "The close() method closes an open file. \n",
    "You should always close your files, in some cases, due to buffering, \n",
    "changes made to a file may not show until you close the file.\n",
    "'''"
   ]
  },
  {
   "cell_type": "code",
   "execution_count": 5,
   "id": "3b80fdd8-f919-4a44-ae39-510863751e51",
   "metadata": {},
   "outputs": [
    {
     "data": {
      "text/plain": [
       "'I want to become a Data Scientist'"
      ]
     },
     "execution_count": 5,
     "metadata": {},
     "output_type": "execute_result"
    }
   ],
   "source": [
    "#3\n",
    "f = open(\"text.txt\",'w')\n",
    "f.write(\"I want to become a Data Scientist\")\n",
    "f.close()\n",
    "f = open(\"text.txt\",'r')\n",
    "f.read()"
   ]
  },
  {
   "cell_type": "code",
   "execution_count": 5,
   "id": "7c295af3-b015-4e69-a0dc-cf2afedc7146",
   "metadata": {},
   "outputs": [
    {
     "name": "stdout",
     "output_type": "stream",
     "text": [
      "I want to become a Data Scientist\n"
     ]
    }
   ],
   "source": [
    "#4.1\n",
    "'''\n",
    "read(): Returns the read bytes in the form of a string.\n",
    "'''\n",
    "f = open(\"text.txt\", \"r\")\n",
    "print(f.read())"
   ]
  },
  {
   "cell_type": "code",
   "execution_count": 23,
   "id": "69d69946-a6ea-4bd7-aae6-16fd08fc6421",
   "metadata": {},
   "outputs": [
    {
     "name": "stdout",
     "output_type": "stream",
     "text": [
      "Python is the best programming language in the world in 2020\n",
      "\n",
      "Edureka is the\n"
     ]
    }
   ],
   "source": [
    "#4.2\n",
    "'''\n",
    "readline(): Reads a line of the file and returns in the form of a string.\n",
    "'''\n",
    "file = open(\"example.txt\", \"r\")\n",
    "example1 = file.readline()\n",
    "example2 = file.readline(14)\n",
    "print(example1)\n",
    "print(example2)"
   ]
  },
  {
   "cell_type": "code",
   "execution_count": 29,
   "id": "78e58316-db53-4377-854a-2ea4d0a3f2f8",
   "metadata": {},
   "outputs": [
    {
     "name": "stdout",
     "output_type": "stream",
     "text": [
      "['Python is the best programming language in the world in 2020\\n', 'Edureka is the biggest Ed-tech platform to learn python\\n', 'Python programming is as easy as writing a program in simple English language']\n",
      "['Python is the best programming language in the world in 2020\\n', 'Edureka is the biggest Ed-tech platform to learn python\\n']\n"
     ]
    }
   ],
   "source": [
    "#4.3\n",
    "'''\n",
    "readlines(): Reads all the lines and returns them as a string element in a list.\n",
    "'''\n",
    "file = open(\"example2.txt\", \"r\")\n",
    "example1 = file.readlines()\n",
    "print(example1)\n",
    "file = open(\"example2.txt\", \"r\")\n",
    "example2 = file.readlines(80)\n",
    "print(example2)"
   ]
  },
  {
   "cell_type": "code",
   "execution_count": 31,
   "id": "ae326f19-c868-4f2a-aee9-0c6d98b6c575",
   "metadata": {},
   "outputs": [
    {
     "data": {
      "text/plain": [
       "'\\nThe advantage of using a with statement is that it is guaranteed to close the file no matter how the nested block exits. \\nIf an exception occurs before the end of the block, it will close the file before the exception is caught by an outer exception handler.\\n'"
      ]
     },
     "execution_count": 31,
     "metadata": {},
     "output_type": "execute_result"
    }
   ],
   "source": [
    "#5\n",
    "'''\n",
    "The with statement works with the open() function to open a file. \n",
    "Unlike open() where you have to close the file with the close() method, \n",
    "the with statement closes the file for you without you telling it to. \n",
    "This is because the with statement calls 2 built-in methods behind the scene – \n",
    "__enter()__ and __exit()__ .\n",
    "'''\n",
    "'''\n",
    "The advantage of using a with statement is that it is guaranteed to close the file no matter how the nested block exits. \n",
    "If an exception occurs before the end of the block, it will close the file before the exception is caught by an outer exception handler.\n",
    "'''"
   ]
  },
  {
   "cell_type": "code",
   "execution_count": 32,
   "id": "da40f66e-4e4c-402c-a10b-1a57daba2fb5",
   "metadata": {},
   "outputs": [
    {
     "name": "stdin",
     "output_type": "stream",
     "text": [
      "Enter the name of the employee:  Anadi\n",
      "Enter the name of the employee:  Andy\n",
      "Enter the name of the employee:  Noddy\n"
     ]
    },
    {
     "name": "stdout",
     "output_type": "stream",
     "text": [
      "Data is written into the file.\n"
     ]
    }
   ],
   "source": [
    "#6.1\n",
    "'''\n",
    "The write() function will write the content in the file without adding any extra characters.\n",
    "'''\n",
    "file = open(\"Employees.txt\", \"w\")\n",
    "  \n",
    "for i in range(3):\n",
    "   name = input(\"Enter the name of the employee: \")\n",
    "   file.write(name)\n",
    "   file.write(\"\\n\")\n",
    "     \n",
    "file.close()\n",
    "  \n",
    "print(\"Data is written into the file.\")"
   ]
  },
  {
   "cell_type": "code",
   "execution_count": 33,
   "id": "f9333a73-cae0-44a3-b106-3fc9099a6695",
   "metadata": {},
   "outputs": [
    {
     "name": "stdin",
     "output_type": "stream",
     "text": [
      "Enter the name of the employee:  Anadi\n",
      "Enter the name of the employee:  Andy\n",
      "Enter the name of the employee:  Noddy\n"
     ]
    },
    {
     "name": "stdout",
     "output_type": "stream",
     "text": [
      "Data is written into the file.\n"
     ]
    }
   ],
   "source": [
    "#6.2\n",
    "'''\n",
    "This function writes the content of a list to a file.\n",
    "'''\n",
    "\n",
    "file1 = open(\"Employees2.txt\", \"w\")\n",
    "lst = []\n",
    "for i in range(3):\n",
    "    name = input(\"Enter the name of the employee: \")\n",
    "    lst.append(name + '\\n')\n",
    "      \n",
    "file1.writelines(lst)\n",
    "file1.close()\n",
    "print(\"Data is written into the file.\") "
   ]
  },
  {
   "cell_type": "code",
   "execution_count": null,
   "id": "d9c1d670-4464-4ef6-80f9-afd74b7de128",
   "metadata": {},
   "outputs": [],
   "source": []
  }
 ],
 "metadata": {
  "kernelspec": {
   "display_name": "Python 3 (ipykernel)",
   "language": "python",
   "name": "python3"
  },
  "language_info": {
   "codemirror_mode": {
    "name": "ipython",
    "version": 3
   },
   "file_extension": ".py",
   "mimetype": "text/x-python",
   "name": "python",
   "nbconvert_exporter": "python",
   "pygments_lexer": "ipython3",
   "version": "3.10.8"
  }
 },
 "nbformat": 4,
 "nbformat_minor": 5
}
